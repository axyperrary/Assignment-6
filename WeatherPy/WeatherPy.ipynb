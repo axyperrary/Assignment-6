{
 "cells": [
  {
   "cell_type": "markdown",
   "metadata": {},
   "source": [
    "# WeatherPy"
   ]
  },
  {
   "cell_type": "markdown",
   "metadata": {},
   "source": [
    "## Analysis\n",
    "- As expected, the weather becomes significantly warmer as one approaches the equator (0 Deg. Latitude). More interestingly, however, is the fact that the southern hemisphere tends to be warmer this time of year than the northern hemisphere. This may be due to the tilt of the earth.\n",
    "- There is no strong relationship between latitude and cloudiness. However, it is interesting to see that a strong band of cities sits at 0, 80, and 100% cloudiness.\n",
    "- There is no strong relationship between latitude and wind speed. However, in northern hemispheres there is a flurry of cities with over 20 mph of wind."
   ]
  },
  {
   "cell_type": "code",
   "execution_count": null,
   "metadata": {},
   "outputs": [],
   "source": [
    "# Dependencies and Setup\n",
    "import matplotlib.pyplot as plt\n",
    "import pandas as pd\n",
    "import numpy as np\n",
    "import requests\n",
    "import time\n",
    "import json\n",
    "\n",
    "# Import CitiPy\n",
    "from citipy import citipy\n",
    "\n",
    "# Import API key\n",
    "from api_keys import api_key\n",
    "\n",
    "# Output File (CSV)\n",
    "output_data_file = \"cities.csv\""
   ]
  },
  {
   "cell_type": "markdown",
   "metadata": {},
   "source": [
    "## Generate Cities List"
   ]
  },
  {
   "cell_type": "code",
   "execution_count": null,
   "metadata": {},
   "outputs": [],
   "source": [
    "# List for holding lat_lngs and cities\n",
    "lat_lngs = []\n",
    "cities = []\n",
    "\n",
    "# Create a set of random lat and lng combinations\n",
    "lats = np.random.uniform(low = -90.000, high = 90.000, size = 1500)\n",
    "lngs = np.random.uniform(low = -180.000, high = 180.000, size = 1500)\n",
    "lat_lngs = zip(lats, lngs)\n",
    "\n",
    "# Identify nearest city for each lat, lng combination\n",
    "for lat_lng in lat_lngs:\n",
    "    city = citipy.nearest_city(lat_lng[0], lat_lng[1]).city_name\n",
    "    \n",
    "    # If the city is unique, then add it to a our cities list\n",
    "    if city not in cities:\n",
    "        cities.append(city)\n",
    "\n",
    "# Print the city count to confirm sufficient count\n",
    "print(f\"City Count: {len(cities)}\")"
   ]
  },
  {
   "cell_type": "markdown",
   "metadata": {},
   "source": [
    "## Perform API Calls"
   ]
  },
  {
   "cell_type": "code",
   "execution_count": null,
   "metadata": {},
   "outputs": [],
   "source": [
    "url = \"http://api.openweathermap.org/data/2.5/weather?\"\n",
    "\n",
    "cloudiness = []\n",
    "country = []\n",
    "date = []\n",
    "humidity = []\n",
    "lat = []\n",
    "lng = []\n",
    "max_temp = []\n",
    "wind_speed = []\n",
    "city_name = []\n",
    "\n",
    "print(\"Beginning Data Retrival \\n-----------------------------\")\n",
    "\n",
    "for i in range(len(cities)):\n",
    "    try:     \n",
    "        print(f\"Processing Record {i + 1} | {cities[i]}\")\n",
    "        query_url = url + \"appid=\" + api_key + \"&q=\" + cities[i] + \"&units=imperial\"\n",
    "        weather_response = requests.get(query_url).json()\n",
    "        cloudiness.append(weather_response[\"clouds\"][\"all\"])\n",
    "        country.append(weather_response[\"sys\"][\"country\"])\n",
    "        date.append(weather_response[\"dt\"])\n",
    "        humidity.append(weather_response[\"main\"][\"humidity\"])\n",
    "        lat.append(weather_response[\"coord\"][\"lat\"])\n",
    "        lng.append(weather_response[\"coord\"][\"lon\"])\n",
    "        max_temp.append(weather_response[\"main\"][\"temp_max\"])\n",
    "        wind_speed.append(weather_response[\"wind\"][\"speed\"])\n",
    "        city_name.append(weather_response[\"name\"])\n",
    "    except:\n",
    "        print(\"City not found. Skipping...\")\n",
    "    \n",
    "print(\"----------------------------- \\nData Retrieval Complete\\n-----------------------------\")"
   ]
  },
  {
   "cell_type": "markdown",
   "metadata": {},
   "source": [
    "## Convert Raw Data to DataFrame"
   ]
  },
  {
   "cell_type": "code",
   "execution_count": null,
   "metadata": {},
   "outputs": [],
   "source": [
    "# Convert to CSV and export\n",
    "weather_df = pd.DataFrame({\"City\" : city_name, \"Cloudiness\" : cloudiness, \"Country\" : country, \"Date\" : date,\n",
    "                           \"Humidity\" : humidity, \"Lat\" : lat, \"Lng\" : lng, \"Max Temp\" : max_temp,\n",
    "                           \"Wind Speed\" : wind_speed})\n",
    "weather_df.to_csv(path_or_buf=output_data_file,index=False,encoding=\"UTF-8\")\n",
    "#weather_df.count()\n",
    "weather_df.head()"
   ]
  },
  {
   "cell_type": "markdown",
   "metadata": {},
   "source": [
    "## Latitude vs. Temperature Plot"
   ]
  },
  {
   "cell_type": "code",
   "execution_count": null,
   "metadata": {},
   "outputs": [],
   "source": [
    "plt.scatter(weather_df[\"Max Temp\"], weather_df[\"Lat\"], facecolors = \"lightskyblue\", edgecolor=\"black\",\n",
    "            alpha = 0.7, linewidth = 1)\n",
    "plt.grid()\n",
    "plt.title(\"City Latitude vs. Max Temperature (01/29/2019)\")\n",
    "plt.xlabel(\"Latitude\")\n",
    "plt.ylabel(\"Max Temperature (°F)\")\n",
    "plt.savefig(\"./Images/latvtemp.png\")\n",
    "plt.show()"
   ]
  },
  {
   "cell_type": "markdown",
   "metadata": {},
   "source": [
    "## Latitude vs. Humidity Plot"
   ]
  },
  {
   "cell_type": "code",
   "execution_count": null,
   "metadata": {},
   "outputs": [],
   "source": [
    "plt.scatter(weather_df[\"Lat\"], weather_df[\"Humidity\"], facecolors = \"lightskyblue\", edgecolor=\"black\",\n",
    "            alpha = 0.7, linewidth = 1)\n",
    "plt.grid()\n",
    "plt.title(\"City Latitude vs. Humidity (01/29/2019)\")\n",
    "plt.xlabel(\"Latitude\")\n",
    "plt.ylabel(\"Humidity (%)\")\n",
    "plt.savefig(\"./Images/latvhumidity.png\")\n",
    "plt.show()"
   ]
  },
  {
   "cell_type": "markdown",
   "metadata": {},
   "source": [
    "## Latitude vs. Cloudiness Plot"
   ]
  },
  {
   "cell_type": "code",
   "execution_count": null,
   "metadata": {},
   "outputs": [],
   "source": [
    "plt.scatter(weather_df[\"Lat\"], weather_df[\"Cloudiness\"], facecolors = \"lightskyblue\", edgecolor=\"black\",\n",
    "            alpha = 0.7, linewidth = 1)\n",
    "plt.grid()\n",
    "plt.title(\"City Latitude vs. Cloudiness (01/29/2019)\")\n",
    "plt.xlabel(\"Latitude\")\n",
    "plt.ylabel(\"Cloudiness (%)\")\n",
    "plt.savefig(\"./Images/latvcloudiness.png\")\n",
    "plt.show()"
   ]
  },
  {
   "cell_type": "markdown",
   "metadata": {},
   "source": [
    "## Latitude vs. Wind Speed Plot"
   ]
  },
  {
   "cell_type": "code",
   "execution_count": null,
   "metadata": {},
   "outputs": [],
   "source": [
    "plt.scatter(weather_df[\"Lat\"], weather_df[\"Wind Speed\"], facecolors = \"lightskyblue\", edgecolor=\"black\",\n",
    "            alpha = 0.7, linewidth = 1)\n",
    "plt.grid()\n",
    "plt.title(\"City Latitude vs. Wind Speed (01/29/2019)\")\n",
    "plt.xlabel(\"Latitude\")\n",
    "plt.ylabel(\"Wind Speed (mph)\")\n",
    "plt.savefig(\"./Images/latvwindspeed.png\")\n",
    "plt.show()"
   ]
  },
  {
   "cell_type": "code",
   "execution_count": null,
   "metadata": {},
   "outputs": [],
   "source": []
  }
 ],
 "metadata": {
  "kernelspec": {
   "display_name": "Python 3",
   "language": "python",
   "name": "python3"
  },
  "language_info": {
   "codemirror_mode": {
    "name": "ipython",
    "version": 3
   },
   "file_extension": ".py",
   "mimetype": "text/x-python",
   "name": "python",
   "nbconvert_exporter": "python",
   "pygments_lexer": "ipython3",
   "version": "3.7.0"
  }
 },
 "nbformat": 4,
 "nbformat_minor": 2
}
